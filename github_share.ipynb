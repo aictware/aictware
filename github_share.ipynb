{
  "nbformat": 4,
  "nbformat_minor": 0,
  "metadata": {
    "colab": {
      "provenance": [],
      "toc_visible": true,
      "authorship_tag": "ABX9TyN0u0NLV19Q9d5IgH++Lfji",
      "include_colab_link": true
    },
    "kernelspec": {
      "name": "python3",
      "display_name": "Python 3"
    },
    "language_info": {
      "name": "python"
    }
  },
  "cells": [
    {
      "cell_type": "markdown",
      "metadata": {
        "id": "view-in-github",
        "colab_type": "text"
      },
      "source": [
        "<a href=\"https://colab.research.google.com/github/aictware/aictware/blob/main/github_share.ipynb\" target=\"_parent\"><img src=\"https://colab.research.google.com/assets/colab-badge.svg\" alt=\"Open In Colab\"/></a>"
      ]
    },
    {
      "cell_type": "markdown",
      "source": [
        "# 1. GitHub에서 리포지토리 준비\n",
        "\n",
        "1. GitHub에 로그인하고 새 리포지토리를 생성\n",
        "2. 리포지토리의 이름을 지정하고 Public 또는 Private로 설정\n",
        "3. README.md 파일을 포함하여 리포지토리를 초기화\n",
        "\n",
        "\n",
        "##Colab에서 GitHub 연동\n",
        "\n",
        "Colab에서 GitHub와 연동하려면 GitHub 인증 필요\n",
        "\n",
        "**방법 1: Colab의 GitHub 기능 사용**\n",
        "\n",
        "1. Colab으로 이동 (https://colab.research.google.com/)\n",
        "2. 왼쪽 상단 메뉴에서 File → Open notebook을 선택\n",
        "3. 상단의 GitHub 탭을 클릭\n",
        "4. GitHub 계정으로 로그인\n",
        "5. Colab이 GitHub에 접근할 수 있도록 권한을 허용\n",
        "6. GitHub에 연결된 리포지토리에서 노트북을 검색하여 Open\n",
        "\n",
        "\n",
        "**방법 2: git 명령어를 사용하여 Colab과 GitHub 연동**\n",
        "\n",
        "1. Colab 노트북에서 새로운 셀을 추가하고 아래 코드를 실행하여 GitHub 포지토리를 클론\n",
        "\n",
        "\n",
        "```\n",
        "# GitHub 리포지토리 클론\n",
        "!git clone https://github.com/username/repository_name.git\n",
        "\n",
        "```\n",
        "* username을 자신의 GitHub 사용자 이름으로 변경\n",
        "* repository_name을 자신의 리포지토리 이름으로 변경\n",
        "\n",
        "\n",
        "\n",
        "\n"
      ],
      "metadata": {
        "id": "VvhXqTxikyBd"
      }
    },
    {
      "cell_type": "code",
      "execution_count": 1,
      "metadata": {
        "colab": {
          "base_uri": "https://localhost:8080/"
        },
        "id": "QJGbbNK9khYk",
        "outputId": "64f1db48-2ce9-45d5-b2d7-deab9b78496c"
      },
      "outputs": [
        {
          "output_type": "stream",
          "name": "stdout",
          "text": [
            "git version 2.34.1\n"
          ]
        }
      ],
      "source": [
        "!git --version"
      ]
    },
    {
      "cell_type": "code",
      "source": [],
      "metadata": {
        "id": "-mCY6XkrkwV6"
      },
      "execution_count": null,
      "outputs": []
    }
  ]
}